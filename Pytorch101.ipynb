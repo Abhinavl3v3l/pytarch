{
  "nbformat": 4,
  "nbformat_minor": 0,
  "metadata": {
    "colab": {
      "name": "Pytorch101",
      "provenance": [],
      "collapsed_sections": []
    },
    "kernelspec": {
      "name": "python3",
      "display_name": "Python 3"
    }
  },
  "cells": [
    {
      "cell_type": "code",
      "metadata": {
        "id": "GhADKykugfaN",
        "colab_type": "code",
        "colab": {}
      },
      "source": [
        "from __future__ import print_function\n",
        "import torch "
      ],
      "execution_count": 0,
      "outputs": []
    },
    {
      "cell_type": "markdown",
      "metadata": {
        "id": "bQkpqtF2ggVF",
        "colab_type": "text"
      },
      "source": [
        "Contruct a 5 * 3 matrix. "
      ]
    },
    {
      "cell_type": "code",
      "metadata": {
        "id": "xOfq_1dFgi6S",
        "colab_type": "code",
        "outputId": "50e7649c-ee25-4c65-fee5-a114473777d3",
        "colab": {
          "base_uri": "https://localhost:8080/",
          "height": 105
        }
      },
      "source": [
        "from __future__ import print_function\n",
        "import torch\n",
        "\n",
        "x = torch.empty(5, 3)   # Unintialized Matrix\n",
        "print(x)  "
      ],
      "execution_count": 0,
      "outputs": [
        {
          "output_type": "stream",
          "text": [
            "tensor([[3.5616e-37, 0.0000e+00, 4.4842e-44],\n",
            "        [0.0000e+00,        nan, 0.0000e+00],\n",
            "        [1.3613e-05, 1.6428e-07, 2.1629e+23],\n",
            "        [1.6805e-04, 6.6526e+22, 1.6504e-07],\n",
            "        [2.1352e+20, 4.1070e-08, 4.9001e-04]])\n"
          ],
          "name": "stdout"
        }
      ]
    },
    {
      "cell_type": "markdown",
      "metadata": {
        "id": "NQmtLX9xg_Xp",
        "colab_type": "text"
      },
      "source": [
        "Initialized Matrix"
      ]
    },
    {
      "cell_type": "code",
      "metadata": {
        "id": "Fl6Bbgdig-xb",
        "colab_type": "code",
        "outputId": "61e2f533-40d6-45bc-e4f0-359dbfe003ab",
        "colab": {
          "base_uri": "https://localhost:8080/",
          "height": 87
        }
      },
      "source": [
        "x  = torch.empty(4,4)\n",
        "print(x)"
      ],
      "execution_count": 0,
      "outputs": [
        {
          "output_type": "stream",
          "text": [
            "tensor([[3.5615e-37, 0.0000e+00, 4.4842e-44, 0.0000e+00],\n",
            "        [       nan, 0.0000e+00, 1.3613e-05, 1.6428e-07],\n",
            "        [2.1629e+23, 1.6805e-04, 6.6526e+22, 1.6504e-07],\n",
            "        [2.1352e+20, 4.1070e-08, 8.9062e-01, 7.3952e-01]])\n"
          ],
          "name": "stdout"
        }
      ]
    },
    {
      "cell_type": "markdown",
      "metadata": {
        "id": "DyI6m69jhGzm",
        "colab_type": "text"
      },
      "source": [
        "Construct a matrix filled zeros and of dtype long.\n"
      ]
    },
    {
      "cell_type": "code",
      "metadata": {
        "id": "RXuyu9wkhGPz",
        "colab_type": "code",
        "outputId": "f7a63df5-ec74-4ed3-a650-6db52d7a26f3",
        "colab": {
          "base_uri": "https://localhost:8080/",
          "height": 87
        }
      },
      "source": [
        "x = torch.zeros(4, 4, dtype=float)\n",
        "print(x)"
      ],
      "execution_count": 0,
      "outputs": [
        {
          "output_type": "stream",
          "text": [
            "tensor([[0., 0., 0., 0.],\n",
            "        [0., 0., 0., 0.],\n",
            "        [0., 0., 0., 0.],\n",
            "        [0., 0., 0., 0.]], dtype=torch.float64)\n"
          ],
          "name": "stdout"
        }
      ]
    },
    {
      "cell_type": "code",
      "metadata": {
        "id": "2kmmWuYJhcF5",
        "colab_type": "code",
        "outputId": "b0cbaf6b-b1c2-4a86-c866-8f49347714a3",
        "colab": {
          "base_uri": "https://localhost:8080/",
          "height": 87
        }
      },
      "source": [
        "x= torch.rand(4 ,4)\n",
        "print(x)"
      ],
      "execution_count": 0,
      "outputs": [
        {
          "output_type": "stream",
          "text": [
            "tensor([[0.4603, 0.8574, 0.0479, 0.1079],\n",
            "        [0.7111, 0.8876, 0.2566, 0.7957],\n",
            "        [0.1869, 0.9967, 0.3544, 0.2387],\n",
            "        [0.3424, 0.2598, 0.5146, 0.3904]])\n"
          ],
          "name": "stdout"
        }
      ]
    },
    {
      "cell_type": "markdown",
      "metadata": {
        "id": "E1LN6DWehYGD",
        "colab_type": "text"
      },
      "source": [
        "Construct a tensor directly from data"
      ]
    },
    {
      "cell_type": "code",
      "metadata": {
        "id": "9SEQb2ilhctL",
        "colab_type": "code",
        "outputId": "2e047fe2-9735-4091-fba0-b1760b52bafd",
        "colab": {
          "base_uri": "https://localhost:8080/",
          "height": 34
        }
      },
      "source": [
        "x = torch.Tensor([1,3,4,6])\n",
        "print(x)"
      ],
      "execution_count": 0,
      "outputs": [
        {
          "output_type": "stream",
          "text": [
            "tensor([1., 3., 4., 6.])\n"
          ],
          "name": "stdout"
        }
      ]
    },
    {
      "cell_type": "markdown",
      "metadata": {
        "id": "giR2UhXyh-ZR",
        "colab_type": "text"
      },
      "source": [
        "Create a tensor based on an existing tensor\n",
        "Will it use same properties ?\n",
        "Can It be altered ?"
      ]
    },
    {
      "cell_type": "code",
      "metadata": {
        "id": "xv0e85EOh97l",
        "colab_type": "code",
        "outputId": "e367c392-21ed-4397-e662-6b420c9fa0e1",
        "colab": {
          "base_uri": "https://localhost:8080/",
          "height": 34
        }
      },
      "source": [
        "x = torch.randn_like(x)\n",
        "print(x)"
      ],
      "execution_count": 0,
      "outputs": [
        {
          "output_type": "stream",
          "text": [
            "tensor([ 0.4520,  0.6834,  0.4817, -0.7501])\n"
          ],
          "name": "stdout"
        }
      ]
    },
    {
      "cell_type": "markdown",
      "metadata": {
        "id": "b4AKdGsNiF1H",
        "colab_type": "text"
      },
      "source": [
        "torch.Size is a tuple. So can be used as a tuple."
      ]
    },
    {
      "cell_type": "code",
      "metadata": {
        "id": "hS0la25piJH-",
        "colab_type": "code",
        "outputId": "e1321ed3-52fb-41bb-85bb-2d13f2ebe8c5",
        "colab": {
          "base_uri": "https://localhost:8080/",
          "height": 34
        }
      },
      "source": [
        "# Size of a tensor.\n",
        "t = x.size()\n",
        "t[0] # Use like tuple"
      ],
      "execution_count": 0,
      "outputs": [
        {
          "output_type": "execute_result",
          "data": {
            "text/plain": [
              "4"
            ]
          },
          "metadata": {
            "tags": []
          },
          "execution_count": 40
        }
      ]
    },
    {
      "cell_type": "markdown",
      "metadata": {
        "id": "Ldnf03E2iHWu",
        "colab_type": "text"
      },
      "source": [
        "Addition of two tensors. Syntax 1"
      ]
    },
    {
      "cell_type": "code",
      "metadata": {
        "id": "72MdBxjciJqp",
        "colab_type": "code",
        "outputId": "4fee4a98-b1db-4d20-d9af-0e653a4f7cae",
        "colab": {
          "base_uri": "https://localhost:8080/",
          "height": 158
        }
      },
      "source": [
        "y = torch.rand(4,4)\n",
        "print(y)\n",
        "z = x + y\n",
        "print(z)"
      ],
      "execution_count": 0,
      "outputs": [
        {
          "output_type": "stream",
          "text": [
            "tensor([[0.9724, 0.5381, 0.9178, 0.8688],\n",
            "        [0.3063, 0.6981, 0.8581, 0.3495],\n",
            "        [0.2228, 0.8170, 0.0214, 0.2233],\n",
            "        [0.0529, 0.9716, 0.2467, 0.3849]])\n",
            "tensor([[ 1.4244,  1.2215,  1.3995,  0.1186],\n",
            "        [ 0.7584,  1.3815,  1.3398, -0.4006],\n",
            "        [ 0.6748,  1.5004,  0.5031, -0.5268],\n",
            "        [ 0.5049,  1.6551,  0.7283, -0.3652]])\n"
          ],
          "name": "stdout"
        }
      ]
    },
    {
      "cell_type": "markdown",
      "metadata": {
        "id": "ZHUm_txsD6Uw",
        "colab_type": "text"
      },
      "source": [
        ""
      ]
    },
    {
      "cell_type": "markdown",
      "metadata": {
        "id": "f2tjoFJwiG-H",
        "colab_type": "text"
      },
      "source": [
        "Addition: providing an output tensor as argument. Syntax 2"
      ]
    },
    {
      "cell_type": "code",
      "metadata": {
        "id": "wQqU2zhoiKWP",
        "colab_type": "code",
        "outputId": "6b86e73f-b11a-42a6-b1ae-6ad6413b4111",
        "colab": {
          "base_uri": "https://localhost:8080/",
          "height": 158
        }
      },
      "source": [
        "z = torch.add(x,y)\n",
        "print(z)\n",
        "zz = 0.0\n",
        "zz = torch.add(z,z,out=zz) # input and output should be of same type.\n",
        "print(zz)"
      ],
      "execution_count": 0,
      "outputs": [
        {
          "output_type": "stream",
          "text": [
            "tensor([[ 1.4244,  1.2215,  1.3995,  0.1186],\n",
            "        [ 0.7584,  1.3815,  1.3398, -0.4006],\n",
            "        [ 0.6748,  1.5004,  0.5031, -0.5268],\n",
            "        [ 0.5049,  1.6551,  0.7283, -0.3652]])\n",
            "tensor([[ 2.8488,  2.4431,  2.7990,  0.2372],\n",
            "        [ 1.5167,  2.7630,  2.6795, -0.8012],\n",
            "        [ 1.3497,  3.0009,  1.0062, -1.0537],\n",
            "        [ 1.0098,  3.3101,  1.4567, -0.7304]], dtype=torch.float64)\n"
          ],
          "name": "stdout"
        }
      ]
    },
    {
      "cell_type": "markdown",
      "metadata": {
        "id": "ZbycTWKbiGrz",
        "colab_type": "text"
      },
      "source": [
        "Addition: in-place"
      ]
    },
    {
      "cell_type": "code",
      "metadata": {
        "id": "UDVnbMQBiK9J",
        "colab_type": "code",
        "outputId": "76f48f7e-b366-4694-9594-3118f8af0c0a",
        "colab": {
          "base_uri": "https://localhost:8080/",
          "height": 87
        }
      },
      "source": [
        "z3 = torch.randn_like(zz)\n",
        "z3.add_(z)\n",
        "print(z3)"
      ],
      "execution_count": 0,
      "outputs": [
        {
          "output_type": "stream",
          "text": [
            "tensor([[ 1.2375, -1.0616,  1.1647,  1.3916],\n",
            "        [ 0.2134,  1.0527,  2.3556, -0.6029],\n",
            "        [-1.1222,  2.5167,  0.6341, -2.2155],\n",
            "        [ 0.9203,  2.6994,  1.4644, -0.1393]], dtype=torch.float64)\n"
          ],
          "name": "stdout"
        }
      ]
    },
    {
      "cell_type": "markdown",
      "metadata": {
        "id": "m5_Gv_LzjcI4",
        "colab_type": "text"
      },
      "source": [
        "Resizing: If you want to resize/reshape tensor, you can use torch.view:"
      ]
    },
    {
      "cell_type": "code",
      "metadata": {
        "id": "uma9diPEjcqQ",
        "colab_type": "code",
        "outputId": "fc08d0d2-442e-4ee0-9556-94912b65f8a7",
        "colab": {
          "base_uri": "https://localhost:8080/",
          "height": 141
        }
      },
      "source": [
        "zz = zz.view(2,8)\n",
        "print(zz)\n",
        "zz = zz.view(-1,4)\n",
        "print(zz)"
      ],
      "execution_count": 0,
      "outputs": [
        {
          "output_type": "stream",
          "text": [
            "tensor([[ 2.8488,  2.4431,  2.7990,  0.2372,  1.5167,  2.7630,  2.6795, -0.8012],\n",
            "        [ 1.3497,  3.0009,  1.0062, -1.0537,  1.0098,  3.3101,  1.4567, -0.7304]],\n",
            "       dtype=torch.float64)\n",
            "tensor([[ 2.8488,  2.4431,  2.7990,  0.2372],\n",
            "        [ 1.5167,  2.7630,  2.6795, -0.8012],\n",
            "        [ 1.3497,  3.0009,  1.0062, -1.0537],\n",
            "        [ 1.0098,  3.3101,  1.4567, -0.7304]], dtype=torch.float64)\n"
          ],
          "name": "stdout"
        }
      ]
    },
    {
      "cell_type": "markdown",
      "metadata": {
        "id": "5FluzFKRsLHv",
        "colab_type": "text"
      },
      "source": [
        "## Numpy Bridge\n",
        "\n",
        "torch.from_numpy"
      ]
    },
    {
      "cell_type": "code",
      "metadata": {
        "id": "sI3orGHqsVym",
        "colab_type": "code",
        "outputId": "ad0eb37c-d772-4bb2-f674-579c6bacf8de",
        "colab": {
          "base_uri": "https://localhost:8080/",
          "height": 176
        }
      },
      "source": [
        "import numpy as np \n",
        "\n",
        "a32 = np.random.rand(3,2)\n",
        "print(a32)\n",
        "\n",
        "b = torch.from_numpy(a32)\n",
        "\n",
        "a32  = np.add(a32 , 1, out = a32)\n",
        "\n",
        "print(a32, end=  '\\n')\n",
        "\n",
        "print(b)"
      ],
      "execution_count": 0,
      "outputs": [
        {
          "output_type": "stream",
          "text": [
            "[[0.74868454 0.82190141]\n",
            " [0.51554538 0.02377681]\n",
            " [0.94589892 0.9377241 ]]\n",
            "[[1.74868454 1.82190141]\n",
            " [1.51554538 1.02377681]\n",
            " [1.94589892 1.9377241 ]]\n",
            "tensor([[1.7487, 1.8219],\n",
            "        [1.5155, 1.0238],\n",
            "        [1.9459, 1.9377]], dtype=torch.float64)\n"
          ],
          "name": "stdout"
        }
      ]
    }
  ]
}